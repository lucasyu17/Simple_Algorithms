{
 "cells": [
  {
   "cell_type": "code",
   "execution_count": 4,
   "metadata": {
    "ExecuteTime": {
     "end_time": "2018-05-22T08:04:59.399902Z",
     "start_time": "2018-05-22T08:04:59.396120Z"
    }
   },
   "outputs": [
    {
     "name": "stdout",
     "output_type": "stream",
     "text": [
      "15\n"
     ]
    }
   ],
   "source": [
    "def sum_list_recursive(input_list):\n",
    "    if(len(input_list)==1):\n",
    "        return input_list[0]\n",
    "    else:\n",
    "        return input_list[0]+sum_list_recursive(input_list[1:])\n",
    "\n",
    "test_list = [1,2,3,4,5]\n",
    "print(sum_list_recursive(test_list))"
   ]
  },
  {
   "cell_type": "code",
   "execution_count": 7,
   "metadata": {
    "ExecuteTime": {
     "end_time": "2018-05-22T08:08:23.149944Z",
     "start_time": "2018-05-22T08:08:23.146771Z"
    }
   },
   "outputs": [
    {
     "data": {
      "text/plain": [
       "5"
      ]
     },
     "execution_count": 7,
     "metadata": {},
     "output_type": "execute_result"
    }
   ],
   "source": [
    "def num_ele_recursive(input_list):\n",
    "    if(len(input_list)==0):\n",
    "        return 0\n",
    "    else:\n",
    "        return 1+num_ele_recursive(input_list[1:])\n",
    "    \n",
    "test_list = [1,2,3,4,5]\n",
    "num_ele_recursive(test_list)"
   ]
  }
 ],
 "metadata": {
  "kernelspec": {
   "display_name": "Python 3",
   "language": "python",
   "name": "python3"
  },
  "language_info": {
   "codemirror_mode": {
    "name": "ipython",
    "version": 3
   },
   "file_extension": ".py",
   "mimetype": "text/x-python",
   "name": "python",
   "nbconvert_exporter": "python",
   "pygments_lexer": "ipython3",
   "version": "3.5.2"
  }
 },
 "nbformat": 4,
 "nbformat_minor": 2
}
