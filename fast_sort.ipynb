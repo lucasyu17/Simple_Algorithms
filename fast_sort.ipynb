{
 "cells": [
  {
   "cell_type": "code",
   "execution_count": 28,
   "metadata": {
    "ExecuteTime": {
     "end_time": "2018-05-22T09:10:48.983283Z",
     "start_time": "2018-05-22T09:10:48.979470Z"
    }
   },
   "outputs": [
    {
     "name": "stdout",
     "output_type": "stream",
     "text": [
      "[3, 4, 5, 6, 32, 34, 51]\n"
     ]
    }
   ],
   "source": [
    "def fast_sort(input_list,pivot):\n",
    "    if len(input_list)<2:\n",
    "        return input_list\n",
    "    else:\n",
    "        if(pivot!=0):\n",
    "            mid_list = input_list[0:pivot-1]+input_list[pivot+1:]\n",
    "        else:\n",
    "            mid_list = input_list[1:]\n",
    "        minor = [i for i in mid_list if i<input_list[pivot]]\n",
    "        greater = [i for i in mid_list if i>=input_list[pivot]]\n",
    "        return fast_sort(minor,pivot) + [input_list[pivot]] + fast_sort(greater,pivot)\n",
    "test_list = [4,3,5,1,6,3,7,34,12,32,51]\n",
    "\n",
    "print(fast_sort(test_list,2))"
   ]
  }
 ],
 "metadata": {
  "kernelspec": {
   "display_name": "Python 3",
   "language": "python",
   "name": "python3"
  },
  "language_info": {
   "codemirror_mode": {
    "name": "ipython",
    "version": 3
   },
   "file_extension": ".py",
   "mimetype": "text/x-python",
   "name": "python",
   "nbconvert_exporter": "python",
   "pygments_lexer": "ipython3",
   "version": "3.5.2"
  }
 },
 "nbformat": 4,
 "nbformat_minor": 2
}
