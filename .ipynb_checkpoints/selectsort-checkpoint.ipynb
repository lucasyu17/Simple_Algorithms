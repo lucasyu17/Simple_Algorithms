{
 "cells": [
  {
   "cell_type": "code",
   "execution_count": 16,
   "metadata": {
    "ExecuteTime": {
     "end_time": "2018-05-19T09:54:55.394467Z",
     "start_time": "2018-05-19T09:54:55.388793Z"
    }
   },
   "outputs": [
    {
     "name": "stdout",
     "output_type": "stream",
     "text": [
      "[13, 9, 8, 6, 5, 5, 4, 3, 2, 2, 1]\n"
     ]
    },
    {
     "data": {
      "text/plain": [
       "[13, 9, 8, 6, 5, 5, 4, 3, 2, 2, 1]"
      ]
     },
     "execution_count": 16,
     "metadata": {},
     "output_type": "execute_result"
    }
   ],
   "source": [
    "#Select Sort: a relatively fast method of sorting.. complexity: O(n^2)\n",
    "def selectSort(listToSort):\n",
    "    res = []\n",
    "    while len(listToSort)>0:\n",
    "        indx,max_ele = 0,listToSort[0]\n",
    "        for i in range(len(listToSort)):\n",
    "            if listToSort[i] > max_ele:\n",
    "                indx = i\n",
    "                max_ele = listToSort[i]\n",
    "        max_ele = listToSort.pop(indx)\n",
    "#         print(max_ele)\n",
    "        res.append(max_ele)\n",
    "    print(res)\n",
    "    return res\n",
    "\n",
    "selectSort([2,1,3,4,5,13,9,5,6,2,8])"
   ]
  }
 ],
 "metadata": {
  "kernelspec": {
   "display_name": "Python 3",
   "language": "python",
   "name": "python3"
  },
  "language_info": {
   "codemirror_mode": {
    "name": "ipython",
    "version": 3
   },
   "file_extension": ".py",
   "mimetype": "text/x-python",
   "name": "python",
   "nbconvert_exporter": "python",
   "pygments_lexer": "ipython3",
   "version": "3.5.2"
  },
  "varInspector": {
   "cols": {
    "lenName": 16,
    "lenType": 16,
    "lenVar": 40
   },
   "kernels_config": {
    "python": {
     "delete_cmd_postfix": "",
     "delete_cmd_prefix": "del ",
     "library": "var_list.py",
     "varRefreshCmd": "print(var_dic_list())"
    },
    "r": {
     "delete_cmd_postfix": ") ",
     "delete_cmd_prefix": "rm(",
     "library": "var_list.r",
     "varRefreshCmd": "cat(var_dic_list()) "
    }
   },
   "types_to_exclude": [
    "module",
    "function",
    "builtin_function_or_method",
    "instance",
    "_Feature"
   ],
   "window_display": false
  }
 },
 "nbformat": 4,
 "nbformat_minor": 2
}
