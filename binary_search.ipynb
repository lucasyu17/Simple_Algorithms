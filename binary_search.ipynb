{
 "cells": [
  {
   "cell_type": "code",
   "execution_count": 52,
   "metadata": {
    "ExecuteTime": {
     "end_time": "2018-05-19T08:34:35.883588Z",
     "start_time": "2018-05-19T08:34:35.872177Z"
    }
   },
   "outputs": [
    {
     "name": "stdout",
     "output_type": "stream",
     "text": [
      "2\n"
     ]
    },
    {
     "data": {
      "text/plain": [
       "2"
      ]
     },
     "execution_count": 52,
     "metadata": {},
     "output_type": "execute_result"
    }
   ],
   "source": [
    "def binary_search(listInOrder,element,Inverse = False):\n",
    "    a,b = 0,len(listInOrder)-1\n",
    "    while a<b:\n",
    "        mid = int((a+b)/2)\n",
    "        if(Inverse):\n",
    "            if(listInOrder[mid]==element):\n",
    "                print(mid)\n",
    "                return mid\n",
    "            elif(listInOrder[mid]<element):\n",
    "                b = mid\n",
    "            elif(listInOrder[mid]>element):\n",
    "                a = mid\n",
    "        else:\n",
    "            if(listInOrder[mid]==element):\n",
    "                print(mid)\n",
    "                return mid\n",
    "            elif(listInOrder[mid]>element):\n",
    "                b = mid\n",
    "            elif(listInOrder[mid]<element):\n",
    "                a = mid\n",
    "    print(\"cannot find the element\")\n",
    "\n",
    "list_test = [1,2,3,4,5,7,8,9,10,12,13,14]\n",
    "list_test_invers = [14,13,12,11,10,9,8,6,5,4,3,2]\n",
    "element = 12\n",
    "binary_search(list_test,element)\n",
    "binary_search(list_test_invers,element,Inverse = True)"
   ]
  }
 ],
 "metadata": {
  "kernelspec": {
   "display_name": "Python 3",
   "language": "python",
   "name": "python3"
  },
  "language_info": {
   "codemirror_mode": {
    "name": "ipython",
    "version": 3
   },
   "file_extension": ".py",
   "mimetype": "text/x-python",
   "name": "python",
   "nbconvert_exporter": "python",
   "pygments_lexer": "ipython3",
   "version": "3.5.2"
  },
  "varInspector": {
   "cols": {
    "lenName": 16,
    "lenType": 16,
    "lenVar": 40
   },
   "kernels_config": {
    "python": {
     "delete_cmd_postfix": "",
     "delete_cmd_prefix": "del ",
     "library": "var_list.py",
     "varRefreshCmd": "print(var_dic_list())"
    },
    "r": {
     "delete_cmd_postfix": ") ",
     "delete_cmd_prefix": "rm(",
     "library": "var_list.r",
     "varRefreshCmd": "cat(var_dic_list()) "
    }
   },
   "types_to_exclude": [
    "module",
    "function",
    "builtin_function_or_method",
    "instance",
    "_Feature"
   ],
   "window_display": false
  }
 },
 "nbformat": 4,
 "nbformat_minor": 2
}
